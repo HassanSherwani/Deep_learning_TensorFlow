{
  "nbformat": 4,
  "nbformat_minor": 0,
  "metadata": {
    "colab": {
      "name": "Deep Convolutional GAN.ipynb",
      "version": "0.3.2",
      "provenance": []
    },
    "kernelspec": {
      "name": "python3",
      "display_name": "Python 3"
    }
  },
  "cells": [
    {
      "cell_type": "markdown",
      "metadata": {
        "id": "Sg6xqSKtigMX",
        "colab_type": "text"
      },
      "source": [
        "# Deep Convolutional Generative Adversarial Network\n",
        "Build a deep convolutional generative adversarial network (DCGAN) to generate digit images from a noise distribution with TensorFlow."
      ]
    },
    {
      "cell_type": "code",
      "metadata": {
        "id": "OOWetKt4iqeV",
        "colab_type": "code",
        "colab": {}
      },
      "source": [
        "import matplotlib.pyplot as plt\n",
        "import numpy as np\n",
        "import tensorflow as tf"
      ],
      "execution_count": 0,
      "outputs": []
    },
    {
      "cell_type": "code",
      "metadata": {
        "id": "mdDkLPyWiuwT",
        "colab_type": "code",
        "colab": {
          "base_uri": "https://localhost:8080/",
          "height": 524
        },
        "outputId": "a7116ce0-6c3d-43b0-9fc1-cb699575d3c4"
      },
      "source": [
        "# Import MNIST data\n",
        "from tensorflow.examples.tutorials.mnist import input_data\n",
        "mnist = input_data.read_data_sets(\"/tmp/data/\", one_hot=True)"
      ],
      "execution_count": 2,
      "outputs": [
        {
          "output_type": "stream",
          "text": [
            "WARNING:tensorflow:From <ipython-input-2-c3d55fec490c>:2: read_data_sets (from tensorflow.contrib.learn.python.learn.datasets.mnist) is deprecated and will be removed in a future version.\n",
            "Instructions for updating:\n",
            "Please use alternatives such as official/mnist/dataset.py from tensorflow/models.\n",
            "WARNING:tensorflow:From /usr/local/lib/python3.6/dist-packages/tensorflow/contrib/learn/python/learn/datasets/mnist.py:260: maybe_download (from tensorflow.contrib.learn.python.learn.datasets.base) is deprecated and will be removed in a future version.\n",
            "Instructions for updating:\n",
            "Please write your own downloading logic.\n",
            "WARNING:tensorflow:From /usr/local/lib/python3.6/dist-packages/tensorflow/contrib/learn/python/learn/datasets/base.py:252: _internal_retry.<locals>.wrap.<locals>.wrapped_fn (from tensorflow.contrib.learn.python.learn.datasets.base) is deprecated and will be removed in a future version.\n",
            "Instructions for updating:\n",
            "Please use urllib or similar directly.\n",
            "Successfully downloaded train-images-idx3-ubyte.gz 9912422 bytes.\n",
            "WARNING:tensorflow:From /usr/local/lib/python3.6/dist-packages/tensorflow/contrib/learn/python/learn/datasets/mnist.py:262: extract_images (from tensorflow.contrib.learn.python.learn.datasets.mnist) is deprecated and will be removed in a future version.\n",
            "Instructions for updating:\n",
            "Please use tf.data to implement this functionality.\n",
            "Extracting /tmp/data/train-images-idx3-ubyte.gz\n",
            "Successfully downloaded train-labels-idx1-ubyte.gz 28881 bytes.\n",
            "WARNING:tensorflow:From /usr/local/lib/python3.6/dist-packages/tensorflow/contrib/learn/python/learn/datasets/mnist.py:267: extract_labels (from tensorflow.contrib.learn.python.learn.datasets.mnist) is deprecated and will be removed in a future version.\n",
            "Instructions for updating:\n",
            "Please use tf.data to implement this functionality.\n",
            "Extracting /tmp/data/train-labels-idx1-ubyte.gz\n",
            "WARNING:tensorflow:From /usr/local/lib/python3.6/dist-packages/tensorflow/contrib/learn/python/learn/datasets/mnist.py:110: dense_to_one_hot (from tensorflow.contrib.learn.python.learn.datasets.mnist) is deprecated and will be removed in a future version.\n",
            "Instructions for updating:\n",
            "Please use tf.one_hot on tensors.\n",
            "Successfully downloaded t10k-images-idx3-ubyte.gz 1648877 bytes.\n",
            "Extracting /tmp/data/t10k-images-idx3-ubyte.gz\n",
            "Successfully downloaded t10k-labels-idx1-ubyte.gz 4542 bytes.\n",
            "Extracting /tmp/data/t10k-labels-idx1-ubyte.gz\n",
            "WARNING:tensorflow:From /usr/local/lib/python3.6/dist-packages/tensorflow/contrib/learn/python/learn/datasets/mnist.py:290: DataSet.__init__ (from tensorflow.contrib.learn.python.learn.datasets.mnist) is deprecated and will be removed in a future version.\n",
            "Instructions for updating:\n",
            "Please use alternatives such as official/mnist/dataset.py from tensorflow/models.\n"
          ],
          "name": "stdout"
        }
      ]
    },
    {
      "cell_type": "code",
      "metadata": {
        "id": "A1bC0mX_iw7G",
        "colab_type": "code",
        "colab": {}
      },
      "source": [
        "# Training Params\n",
        "num_steps = 10000\n",
        "batch_size = 128\n",
        "lr_generator = 0.002\n",
        "lr_discriminator = 0.002\n",
        "\n",
        "# Network Params\n",
        "image_dim = 784 # 28*28 pixels * 1 channel\n",
        "noise_dim = 100 # Noise data points"
      ],
      "execution_count": 0,
      "outputs": []
    },
    {
      "cell_type": "markdown",
      "metadata": {
        "id": "cwF5zH8Vi3zv",
        "colab_type": "text"
      },
      "source": [
        "# Building Network"
      ]
    },
    {
      "cell_type": "code",
      "metadata": {
        "id": "MOFUkBuFizXk",
        "colab_type": "code",
        "colab": {}
      },
      "source": [
        "# Network Inputs\n",
        "noise_input = tf.placeholder(tf.float32, shape=[None, noise_dim])\n",
        "real_image_input = tf.placeholder(tf.float32, shape=[None, 28, 28, 1])\n",
        "# A boolean to indicate batch normalization if it is training or inference time\n",
        "is_training = tf.placeholder(tf.bool)\n",
        "\n",
        "#LeakyReLU activation\n",
        "def leakyrelu(x, alpha=0.2):\n",
        "    return 0.5 * (1 + alpha) * x + 0.5 * (1 - alpha) * abs(x)\n"
      ],
      "execution_count": 0,
      "outputs": []
    },
    {
      "cell_type": "markdown",
      "metadata": {
        "id": "0TQXm5fQi_1E",
        "colab_type": "text"
      },
      "source": [
        "# Generator Network"
      ]
    },
    {
      "cell_type": "code",
      "metadata": {
        "id": "ZPHVrkXdi4vF",
        "colab_type": "code",
        "colab": {}
      },
      "source": [
        "# Input: Noise, Output: Image\n",
        "# Note that batch normalization has different behavior at training and inference time,\n",
        "# we then use a placeholder to indicates the layer if we are training or not.\n",
        "def generator(x, reuse=False):\n",
        "    with tf.variable_scope('Generator', reuse=reuse):\n",
        "        # TensorFlow Layers automatically create variables and calculate their\n",
        "        # shape, based on the input.\n",
        "        x = tf.layers.dense(x, units=7 * 7 * 128)\n",
        "        x = tf.layers.batch_normalization(x, training=is_training)\n",
        "        x = tf.nn.relu(x)\n",
        "        # Reshape to a 4-D array of images: (batch, height, width, channels)\n",
        "        # New shape: (batch, 7, 7, 128)\n",
        "        x = tf.reshape(x, shape=[-1, 7, 7, 128])\n",
        "        # Deconvolution, image shape: (batch, 14, 14, 64)\n",
        "        x = tf.layers.conv2d_transpose(x, 64, 5, strides=2, padding='same')\n",
        "        x = tf.layers.batch_normalization(x, training=is_training)\n",
        "        x = tf.nn.relu(x)\n",
        "        # Deconvolution, image shape: (batch, 28, 28, 1)\n",
        "        x = tf.layers.conv2d_transpose(x, 1, 5, strides=2, padding='same')\n",
        "        # Apply tanh for better stability - clip values to [-1, 1].\n",
        "        x = tf.nn.tanh(x)\n",
        "        return x"
      ],
      "execution_count": 0,
      "outputs": []
    },
    {
      "cell_type": "markdown",
      "metadata": {
        "id": "EQRZh18VjGzm",
        "colab_type": "text"
      },
      "source": [
        "# Discriminator Network"
      ]
    },
    {
      "cell_type": "code",
      "metadata": {
        "id": "O3O9xv5_jDff",
        "colab_type": "code",
        "colab": {}
      },
      "source": [
        "# Input: Image, Output: Prediction Real/Fake Image\n",
        "def discriminator(x, reuse=False):\n",
        "    with tf.variable_scope('Discriminator', reuse=reuse):\n",
        "        # Typical convolutional neural network to classify images.\n",
        "        x = tf.layers.conv2d(x, 64, 5, strides=2, padding='same')\n",
        "        x = tf.layers.batch_normalization(x, training=is_training)\n",
        "        x = leakyrelu(x)\n",
        "        x = tf.layers.conv2d(x, 128, 5, strides=2, padding='same')\n",
        "        x = tf.layers.batch_normalization(x, training=is_training)\n",
        "        x = leakyrelu(x)\n",
        "        # Flatten\n",
        "        x = tf.reshape(x, shape=[-1, 7*7*128])\n",
        "        x = tf.layers.dense(x, 1024)\n",
        "        x = tf.layers.batch_normalization(x, training=is_training)\n",
        "        x = leakyrelu(x)\n",
        "        # Output 2 classes: Real and Fake images\n",
        "        x = tf.layers.dense(x, 2)\n",
        "    return x"
      ],
      "execution_count": 0,
      "outputs": []
    },
    {
      "cell_type": "code",
      "metadata": {
        "id": "mNaJNoxAjLrq",
        "colab_type": "code",
        "colab": {
          "base_uri": "https://localhost:8080/",
          "height": 289
        },
        "outputId": "54d87e30-1565-43b7-bdbc-d14d15eedc92"
      },
      "source": [
        "# Build Generator Network\n",
        "gen_sample = generator(noise_input)\n",
        "\n",
        "# Build 2 Discriminator Networks (one from noise input, one from generated samples)\n",
        "disc_real = discriminator(real_image_input)\n",
        "disc_fake = discriminator(gen_sample, reuse=True)\n",
        "\n",
        "# Build the stacked generator/discriminator\n",
        "stacked_gan = discriminator(gen_sample, reuse=True)\n",
        "\n",
        "# Build Loss (Labels for real images: 1, for fake images: 0)\n",
        "# Discriminator Loss for real and fake samples\n",
        "disc_loss_real = tf.reduce_mean(tf.nn.sparse_softmax_cross_entropy_with_logits(\n",
        "    logits=disc_real, labels=tf.ones([batch_size], dtype=tf.int32)))\n",
        "disc_loss_fake = tf.reduce_mean(tf.nn.sparse_softmax_cross_entropy_with_logits(\n",
        "    logits=disc_fake, labels=tf.zeros([batch_size], dtype=tf.int32)))\n",
        "# Sum both loss\n",
        "disc_loss = disc_loss_real + disc_loss_fake\n",
        "# Generator Loss (The generator tries to fool the discriminator, thus labels are 1)\n",
        "gen_loss = tf.reduce_mean(tf.nn.sparse_softmax_cross_entropy_with_logits(\n",
        "    logits=stacked_gan, labels=tf.ones([batch_size], dtype=tf.int32)))\n",
        "\n",
        "# Build Optimizers\n",
        "optimizer_gen = tf.train.AdamOptimizer(learning_rate=lr_generator, beta1=0.5, beta2=0.999)\n",
        "optimizer_disc = tf.train.AdamOptimizer(learning_rate=lr_discriminator, beta1=0.5, beta2=0.999)"
      ],
      "execution_count": 7,
      "outputs": [
        {
          "output_type": "stream",
          "text": [
            "WARNING:tensorflow:From <ipython-input-5-c048aee14c21>:5: dense (from tensorflow.python.layers.core) is deprecated and will be removed in a future version.\n",
            "Instructions for updating:\n",
            "Use keras.layers.dense instead.\n",
            "WARNING:tensorflow:From /usr/local/lib/python3.6/dist-packages/tensorflow/python/framework/op_def_library.py:263: colocate_with (from tensorflow.python.framework.ops) is deprecated and will be removed in a future version.\n",
            "Instructions for updating:\n",
            "Colocations handled automatically by placer.\n",
            "WARNING:tensorflow:From <ipython-input-5-c048aee14c21>:6: batch_normalization (from tensorflow.python.layers.normalization) is deprecated and will be removed in a future version.\n",
            "Instructions for updating:\n",
            "Use keras.layers.batch_normalization instead.\n",
            "WARNING:tensorflow:From <ipython-input-5-c048aee14c21>:12: conv2d_transpose (from tensorflow.python.layers.convolutional) is deprecated and will be removed in a future version.\n",
            "Instructions for updating:\n",
            "Use keras.layers.conv2d_transpose instead.\n",
            "WARNING:tensorflow:From <ipython-input-6-878f9551d699>:4: conv2d (from tensorflow.python.layers.convolutional) is deprecated and will be removed in a future version.\n",
            "Instructions for updating:\n",
            "Use keras.layers.conv2d instead.\n"
          ],
          "name": "stdout"
        }
      ]
    },
    {
      "cell_type": "markdown",
      "metadata": {
        "id": "FV-CEa5ojRFF",
        "colab_type": "text"
      },
      "source": [
        "# Training Variables for each optimizer"
      ]
    },
    {
      "cell_type": "code",
      "metadata": {
        "id": "8-_AHvHXjV51",
        "colab_type": "code",
        "colab": {
          "base_uri": "https://localhost:8080/",
          "height": 87
        },
        "outputId": "82416ada-98a7-47fc-a30a-45ccd359affd"
      },
      "source": [
        "# Generator Network Variables\n",
        "gen_vars = tf.get_collection(tf.GraphKeys.TRAINABLE_VARIABLES, scope='Generator')\n",
        "# Discriminator Network Variables\n",
        "disc_vars = tf.get_collection(tf.GraphKeys.TRAINABLE_VARIABLES, scope='Discriminator')\n",
        "\n",
        "# Create training operations\n",
        "# TensorFlow UPDATE_OPS collection holds all batch norm operation to update the moving mean/stddev\n",
        "gen_update_ops = tf.get_collection(tf.GraphKeys.UPDATE_OPS, scope='Generator')\n",
        "# `control_dependencies` ensure that the `gen_update_ops` will be run before the `minimize` op (backprop)\n",
        "with tf.control_dependencies(gen_update_ops):\n",
        "    train_gen = optimizer_gen.minimize(gen_loss, var_list=gen_vars)\n",
        "disc_update_ops = tf.get_collection(tf.GraphKeys.UPDATE_OPS, scope='Discriminator')\n",
        "with tf.control_dependencies(disc_update_ops):\n",
        "    train_disc = optimizer_disc.minimize(disc_loss, var_list=disc_vars)\n",
        "    \n",
        "# Initialize the variables (i.e. assign their default value)\n",
        "init = tf.global_variables_initializer()"
      ],
      "execution_count": 8,
      "outputs": [
        {
          "output_type": "stream",
          "text": [
            "WARNING:tensorflow:From /usr/local/lib/python3.6/dist-packages/tensorflow/python/ops/math_ops.py:3066: to_int32 (from tensorflow.python.ops.math_ops) is deprecated and will be removed in a future version.\n",
            "Instructions for updating:\n",
            "Use tf.cast instead.\n"
          ],
          "name": "stdout"
        }
      ]
    },
    {
      "cell_type": "markdown",
      "metadata": {
        "id": "W4v5Ks3Jjdn_",
        "colab_type": "text"
      },
      "source": [
        "# Training the model"
      ]
    },
    {
      "cell_type": "code",
      "metadata": {
        "id": "teTim-t6jZt7",
        "colab_type": "code",
        "colab": {
          "base_uri": "https://localhost:8080/",
          "height": 370
        },
        "outputId": "9151f3b9-a2d7-452e-96f3-ec019b7af415"
      },
      "source": [
        "# Start a new TF session\n",
        "sess = tf.Session()\n",
        "\n",
        "# Run the initializer\n",
        "sess.run(init)\n",
        "    \n",
        "# Training\n",
        "for i in range(1, num_steps+1):\n",
        "\n",
        "    # Prepare Input Data\n",
        "    # Get the next batch of MNIST data (only images are needed, not labels)\n",
        "    batch_x, _ = mnist.train.next_batch(batch_size)\n",
        "    batch_x = np.reshape(batch_x, newshape=[-1, 28, 28, 1])\n",
        "    # Rescale to [-1, 1], the input range of the discriminator\n",
        "    batch_x = batch_x * 2. - 1.\n",
        "\n",
        "    # Discriminator Training\n",
        "    # Generate noise to feed to the generator\n",
        "    z = np.random.uniform(-1., 1., size=[batch_size, noise_dim])\n",
        "    _, dl = sess.run([train_disc, disc_loss], feed_dict={real_image_input: batch_x, noise_input: z, is_training:True})\n",
        "    \n",
        "    # Generator Training\n",
        "    # Generate noise to feed to the generator\n",
        "    z = np.random.uniform(-1., 1., size=[batch_size, noise_dim])\n",
        "    _, gl = sess.run([train_gen, gen_loss], feed_dict={noise_input: z, is_training:True})\n",
        "    \n",
        "    if i % 500 == 0 or i == 1:\n",
        "        print('Step %i: Generator Loss: %f, Discriminator Loss: %f' % (i, gl, dl))"
      ],
      "execution_count": 9,
      "outputs": [
        {
          "output_type": "stream",
          "text": [
            "Step 1: Generator Loss: 3.352544, Discriminator Loss: 1.819421\n",
            "Step 500: Generator Loss: 1.310250, Discriminator Loss: 1.132004\n",
            "Step 1000: Generator Loss: 1.828623, Discriminator Loss: 0.877917\n",
            "Step 1500: Generator Loss: 3.040066, Discriminator Loss: 0.792433\n",
            "Step 2000: Generator Loss: 2.949482, Discriminator Loss: 0.561094\n",
            "Step 2500: Generator Loss: 2.805452, Discriminator Loss: 0.721029\n",
            "Step 3000: Generator Loss: 2.183393, Discriminator Loss: 0.272290\n",
            "Step 3500: Generator Loss: 3.113332, Discriminator Loss: 0.443076\n",
            "Step 4000: Generator Loss: 4.916869, Discriminator Loss: 0.252100\n",
            "Step 4500: Generator Loss: 4.082252, Discriminator Loss: 0.238053\n",
            "Step 5000: Generator Loss: 4.656726, Discriminator Loss: 0.198181\n",
            "Step 5500: Generator Loss: 5.860293, Discriminator Loss: 0.891744\n",
            "Step 6000: Generator Loss: 3.870505, Discriminator Loss: 0.129896\n",
            "Step 6500: Generator Loss: 4.365457, Discriminator Loss: 0.139566\n",
            "Step 7000: Generator Loss: 5.441970, Discriminator Loss: 0.191583\n",
            "Step 7500: Generator Loss: 3.952767, Discriminator Loss: 0.098440\n",
            "Step 8000: Generator Loss: 5.340640, Discriminator Loss: 0.247897\n",
            "Step 8500: Generator Loss: 5.042993, Discriminator Loss: 0.831511\n",
            "Step 9000: Generator Loss: 5.912820, Discriminator Loss: 0.245484\n",
            "Step 9500: Generator Loss: 5.609950, Discriminator Loss: 0.104076\n",
            "Step 10000: Generator Loss: 4.786001, Discriminator Loss: 0.081690\n"
          ],
          "name": "stdout"
        }
      ]
    },
    {
      "cell_type": "markdown",
      "metadata": {
        "id": "9fHzion7jj17",
        "colab_type": "text"
      },
      "source": [
        "# Testing"
      ]
    },
    {
      "cell_type": "code",
      "metadata": {
        "id": "9woLtVMLjgYv",
        "colab_type": "code",
        "colab": {
          "base_uri": "https://localhost:8080/",
          "height": 378
        },
        "outputId": "e2af0b42-eedb-4b92-a40b-62c98908cdc8"
      },
      "source": [
        "# Generate images from noise, using the generator network.\n",
        "n = 6\n",
        "canvas = np.empty((28 * n, 28 * n))\n",
        "for i in range(n):\n",
        "    # Noise input.\n",
        "    z = np.random.uniform(-1., 1., size=[n, noise_dim])\n",
        "    # Generate image from noise.\n",
        "    g = sess.run(gen_sample, feed_dict={noise_input: z, is_training:False})\n",
        "    # Rescale values to the original [0, 1] (from tanh -> [-1, 1])\n",
        "    g = (g + 1.) / 2.\n",
        "    # Reverse colours for better display\n",
        "    g = -1 * (g - 1)\n",
        "    for j in range(n):\n",
        "        # Draw the generated digits\n",
        "        canvas[i * 28:(i + 1) * 28, j * 28:(j + 1) * 28] = g[j].reshape([28, 28])\n",
        "\n",
        "plt.figure(figsize=(n, n))\n",
        "plt.imshow(canvas, origin=\"upper\", cmap=\"gray\")\n",
        "plt.show()"
      ],
      "execution_count": 10,
      "outputs": [
        {
          "output_type": "display_data",
          "data": {
            "image/png": "[encoded data removed]",
            "text/plain": [
              "<Figure size 432x432 with 1 Axes>"
            ]
          },
          "metadata": {
            "tags": []
          }
        }
      ]
    }
  ]
}