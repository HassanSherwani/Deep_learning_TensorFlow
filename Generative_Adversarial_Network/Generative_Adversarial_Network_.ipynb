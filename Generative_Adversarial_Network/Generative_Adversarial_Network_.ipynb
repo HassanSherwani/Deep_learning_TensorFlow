{
  "nbformat": 4,
  "nbformat_minor": 0,
  "metadata": {
    "colab": {
      "name": "Generative Adversarial Network .ipynb",
      "version": "0.3.2",
      "provenance": []
    },
    "kernelspec": {
      "name": "python3",
      "display_name": "Python 3"
    }
  },
  "cells": [
    {
      "cell_type": "markdown",
      "metadata": {
        "id": "pOC26EQrfT9u",
        "colab_type": "text"
      },
      "source": [
        "# Generative Adversarial Network \n",
        "Build a generative adversarial network (GAN) to generate digit images from a noise distribution with TensorFlow."
      ]
    },
    {
      "cell_type": "code",
      "metadata": {
        "id": "4PB0vw_nfUXF",
        "colab_type": "code",
        "colab": {}
      },
      "source": [
        "# to avoid warning\n",
        "import warnings\n",
        "warnings.filterwarnings('ignore')\n",
        "import tensorflow as tf\n",
        "import numpy as np\n",
        "import matplotlib.pyplot as plt"
      ],
      "execution_count": 0,
      "outputs": []
    },
    {
      "cell_type": "code",
      "metadata": {
        "id": "HSJwBle_WcTO",
        "colab_type": "code",
        "colab": {
          "base_uri": "https://localhost:8080/",
          "height": 406
        },
        "outputId": "fe2ffdf4-1ed6-4e73-bf00-1a0fa78c28d2"
      },
      "source": [
        "# Import MNIST data\n",
        "from tensorflow.examples.tutorials.mnist import input_data\n",
        "mnist = input_data.read_data_sets(\"/tmp/data/\", one_hot=True)"
      ],
      "execution_count": 2,
      "outputs": [
        {
          "output_type": "stream",
          "text": [
            "WARNING:tensorflow:From <ipython-input-2-c3d55fec490c>:2: read_data_sets (from tensorflow.contrib.learn.python.learn.datasets.mnist) is deprecated and will be removed in a future version.\n",
            "Instructions for updating:\n",
            "Please use alternatives such as official/mnist/dataset.py from tensorflow/models.\n",
            "WARNING:tensorflow:From /usr/local/lib/python3.6/dist-packages/tensorflow/contrib/learn/python/learn/datasets/mnist.py:260: maybe_download (from tensorflow.contrib.learn.python.learn.datasets.base) is deprecated and will be removed in a future version.\n",
            "Instructions for updating:\n",
            "Please write your own downloading logic.\n",
            "WARNING:tensorflow:From /usr/local/lib/python3.6/dist-packages/tensorflow/contrib/learn/python/learn/datasets/mnist.py:262: extract_images (from tensorflow.contrib.learn.python.learn.datasets.mnist) is deprecated and will be removed in a future version.\n",
            "Instructions for updating:\n",
            "Please use tf.data to implement this functionality.\n",
            "Extracting /tmp/data/train-images-idx3-ubyte.gz\n",
            "WARNING:tensorflow:From /usr/local/lib/python3.6/dist-packages/tensorflow/contrib/learn/python/learn/datasets/mnist.py:267: extract_labels (from tensorflow.contrib.learn.python.learn.datasets.mnist) is deprecated and will be removed in a future version.\n",
            "Instructions for updating:\n",
            "Please use tf.data to implement this functionality.\n",
            "Extracting /tmp/data/train-labels-idx1-ubyte.gz\n",
            "WARNING:tensorflow:From /usr/local/lib/python3.6/dist-packages/tensorflow/contrib/learn/python/learn/datasets/mnist.py:110: dense_to_one_hot (from tensorflow.contrib.learn.python.learn.datasets.mnist) is deprecated and will be removed in a future version.\n",
            "Instructions for updating:\n",
            "Please use tf.one_hot on tensors.\n",
            "Extracting /tmp/data/t10k-images-idx3-ubyte.gz\n",
            "Extracting /tmp/data/t10k-labels-idx1-ubyte.gz\n",
            "WARNING:tensorflow:From /usr/local/lib/python3.6/dist-packages/tensorflow/contrib/learn/python/learn/datasets/mnist.py:290: DataSet.__init__ (from tensorflow.contrib.learn.python.learn.datasets.mnist) is deprecated and will be removed in a future version.\n",
            "Instructions for updating:\n",
            "Please use alternatives such as official/mnist/dataset.py from tensorflow/models.\n"
          ],
          "name": "stdout"
        }
      ]
    },
    {
      "cell_type": "code",
      "metadata": {
        "id": "YyFX8A-mfrZO",
        "colab_type": "code",
        "colab": {}
      },
      "source": [
        "# Training Params\n",
        "num_steps = 70000\n",
        "batch_size = 128\n",
        "learning_rate = 0.0002"
      ],
      "execution_count": 0,
      "outputs": []
    },
    {
      "cell_type": "code",
      "metadata": {
        "id": "ia_djGUnfuAt",
        "colab_type": "code",
        "colab": {}
      },
      "source": [
        "# Network Params\n",
        "image_dim = 784 # 28*28 pixels\n",
        "gen_hidden_dim = 256\n",
        "disc_hidden_dim = 256\n",
        "noise_dim = 100 # Noise data points"
      ],
      "execution_count": 0,
      "outputs": []
    },
    {
      "cell_type": "code",
      "metadata": {
        "id": "kJUepul9fuFU",
        "colab_type": "code",
        "colab": {}
      },
      "source": [
        "# A custom initialization (see Xavier Glorot init)\n",
        "def glorot_init(shape):\n",
        "    return tf.random_normal(shape=shape, stddev=1. / tf.sqrt(shape[0] / 2.))"
      ],
      "execution_count": 0,
      "outputs": []
    },
    {
      "cell_type": "markdown",
      "metadata": {
        "id": "hE4shbPvgAy1",
        "colab_type": "text"
      },
      "source": [
        "# Store layers weight & bias"
      ]
    },
    {
      "cell_type": "code",
      "metadata": {
        "id": "ZUZpldfAfzhl",
        "colab_type": "code",
        "colab": {
          "base_uri": "https://localhost:8080/",
          "height": 87
        },
        "outputId": "b6108d72-c02c-4f49-873f-743f6192531e"
      },
      "source": [
        "weights = {\n",
        "    'gen_hidden1': tf.Variable(glorot_init([noise_dim, gen_hidden_dim])),\n",
        "    'gen_out': tf.Variable(glorot_init([gen_hidden_dim, image_dim])),\n",
        "    'disc_hidden1': tf.Variable(glorot_init([image_dim, disc_hidden_dim])),\n",
        "    'disc_out': tf.Variable(glorot_init([disc_hidden_dim, 1])),\n",
        "}\n",
        "biases = {\n",
        "    'gen_hidden1': tf.Variable(tf.zeros([gen_hidden_dim])),\n",
        "    'gen_out': tf.Variable(tf.zeros([image_dim])),\n",
        "    'disc_hidden1': tf.Variable(tf.zeros([disc_hidden_dim])),\n",
        "    'disc_out': tf.Variable(tf.zeros([1])),\n",
        "}"
      ],
      "execution_count": 7,
      "outputs": [
        {
          "output_type": "stream",
          "text": [
            "WARNING:tensorflow:From /usr/local/lib/python3.6/dist-packages/tensorflow/python/framework/op_def_library.py:263: colocate_with (from tensorflow.python.framework.ops) is deprecated and will be removed in a future version.\n",
            "Instructions for updating:\n",
            "Colocations handled automatically by placer.\n"
          ],
          "name": "stdout"
        }
      ]
    },
    {
      "cell_type": "markdown",
      "metadata": {
        "id": "z1fKG8FcgDPI",
        "colab_type": "text"
      },
      "source": [
        "# Generator"
      ]
    },
    {
      "cell_type": "code",
      "metadata": {
        "id": "hwQfpyusf2X3",
        "colab_type": "code",
        "colab": {}
      },
      "source": [
        "def generator(x):\n",
        "    hidden_layer = tf.matmul(x, weights['gen_hidden1'])\n",
        "    hidden_layer = tf.add(hidden_layer, biases['gen_hidden1'])\n",
        "    hidden_layer = tf.nn.relu(hidden_layer)\n",
        "    out_layer = tf.matmul(hidden_layer, weights['gen_out'])\n",
        "    out_layer = tf.add(out_layer, biases['gen_out'])\n",
        "    out_layer = tf.nn.sigmoid(out_layer)\n",
        "    return out_layer"
      ],
      "execution_count": 0,
      "outputs": []
    },
    {
      "cell_type": "markdown",
      "metadata": {
        "id": "FPFKr8KQgI30",
        "colab_type": "text"
      },
      "source": [
        "# Discriminator"
      ]
    },
    {
      "cell_type": "code",
      "metadata": {
        "id": "zVWjXvp_gJmx",
        "colab_type": "code",
        "colab": {}
      },
      "source": [
        "def discriminator(x):\n",
        "    hidden_layer = tf.matmul(x, weights['disc_hidden1'])\n",
        "    hidden_layer = tf.add(hidden_layer, biases['disc_hidden1'])\n",
        "    hidden_layer = tf.nn.relu(hidden_layer)\n",
        "    out_layer = tf.matmul(hidden_layer, weights['disc_out'])\n",
        "    out_layer = tf.add(out_layer, biases['disc_out'])\n",
        "    out_layer = tf.nn.sigmoid(out_layer)\n",
        "    return out_layer"
      ],
      "execution_count": 0,
      "outputs": []
    },
    {
      "cell_type": "markdown",
      "metadata": {
        "id": "TpWRK23AgRW4",
        "colab_type": "text"
      },
      "source": [
        "# Build Networks"
      ]
    },
    {
      "cell_type": "code",
      "metadata": {
        "id": "YX02cjRDgMzc",
        "colab_type": "code",
        "colab": {}
      },
      "source": [
        "#inputs\n",
        "gen_input = tf.placeholder(tf.float32, shape=[None, noise_dim], name='input_noise')\n",
        "disc_input = tf.placeholder(tf.float32, shape=[None, image_dim], name='disc_input')\n",
        "\n",
        "# Build Generator Network\n",
        "gen_sample = generator(gen_input)\n",
        "\n",
        "# Build 2 Discriminator Networks (one from noise input, one from generated samples)\n",
        "disc_real = discriminator(disc_input)\n",
        "disc_fake = discriminator(gen_sample)\n",
        "\n",
        "# Build Loss\n",
        "gen_loss = -tf.reduce_mean(tf.log(disc_fake))\n",
        "disc_loss = -tf.reduce_mean(tf.log(disc_real) + tf.log(1. - disc_fake))\n",
        "\n",
        "# Build Optimizers\n",
        "optimizer_gen = tf.train.AdamOptimizer(learning_rate=learning_rate)\n",
        "optimizer_disc = tf.train.AdamOptimizer(learning_rate=learning_rate)"
      ],
      "execution_count": 0,
      "outputs": []
    },
    {
      "cell_type": "markdown",
      "metadata": {
        "id": "tSnpxKGRgb6V",
        "colab_type": "text"
      },
      "source": [
        "# Training variables for each optimizer"
      ]
    },
    {
      "cell_type": "code",
      "metadata": {
        "id": "rcban3bNgXOA",
        "colab_type": "code",
        "colab": {}
      },
      "source": [
        "# Generator Network Variables\n",
        "gen_vars = [weights['gen_hidden1'], weights['gen_out'],\n",
        "            biases['gen_hidden1'], biases['gen_out']]\n",
        "# Discriminator Network Variables\n",
        "disc_vars = [weights['disc_hidden1'], weights['disc_out'],\n",
        "            biases['disc_hidden1'], biases['disc_out']]\n",
        "\n",
        "# Create training operations\n",
        "train_gen = optimizer_gen.minimize(gen_loss, var_list=gen_vars)\n",
        "train_disc = optimizer_disc.minimize(disc_loss, var_list=disc_vars)\n",
        "\n",
        "# Initialize the variables (i.e. assign their default value)\n",
        "init = tf.global_variables_initializer()"
      ],
      "execution_count": 0,
      "outputs": []
    },
    {
      "cell_type": "markdown",
      "metadata": {
        "id": "McG1Kwm5grmX",
        "colab_type": "text"
      },
      "source": [
        "# Training the model"
      ]
    },
    {
      "cell_type": "code",
      "metadata": {
        "id": "4-Zlay7zgjbN",
        "colab_type": "code",
        "colab": {
          "base_uri": "https://localhost:8080/",
          "height": 622
        },
        "outputId": "c4ae51b2-159f-4681-c27a-f25cf96269f5"
      },
      "source": [
        "# Start a new TF session\n",
        "sess = tf.Session()\n",
        "\n",
        "# Run the initializer\n",
        "sess.run(init)\n",
        "\n",
        "# Training\n",
        "for i in range(1, num_steps+1):\n",
        "    # Prepare Data\n",
        "    # Get the next batch of MNIST data (only images are needed, not labels)\n",
        "    batch_x, _ = mnist.train.next_batch(batch_size)\n",
        "    # Generate noise to feed to the generator\n",
        "    z = np.random.uniform(-1., 1., size=[batch_size, noise_dim])\n",
        "\n",
        "    # Train\n",
        "    feed_dict = {disc_input: batch_x, gen_input: z}\n",
        "    _, _, gl, dl = sess.run([train_gen, train_disc, gen_loss, disc_loss],\n",
        "                            feed_dict=feed_dict)\n",
        "    if i % 2000 == 0 or i == 1:\n",
        "        print('Step %i: Generator Loss: %f, Discriminator Loss: %f' % (i, gl, dl))"
      ],
      "execution_count": 12,
      "outputs": [
        {
          "output_type": "stream",
          "text": [
            "Step 1: Generator Loss: 0.559612, Discriminator Loss: 1.538614\n",
            "Step 2000: Generator Loss: 4.880713, Discriminator Loss: 0.030579\n",
            "Step 4000: Generator Loss: 4.371895, Discriminator Loss: 0.083108\n",
            "Step 6000: Generator Loss: 3.602609, Discriminator Loss: 0.171904\n",
            "Step 8000: Generator Loss: 5.059797, Discriminator Loss: 0.057473\n",
            "Step 10000: Generator Loss: 4.313084, Discriminator Loss: 0.127492\n",
            "Step 12000: Generator Loss: 3.300797, Discriminator Loss: 0.237091\n",
            "Step 14000: Generator Loss: 3.666873, Discriminator Loss: 0.223528\n",
            "Step 16000: Generator Loss: 4.026759, Discriminator Loss: 0.329371\n",
            "Step 18000: Generator Loss: 4.991755, Discriminator Loss: 0.146554\n",
            "Step 20000: Generator Loss: 3.775215, Discriminator Loss: 0.206579\n",
            "Step 22000: Generator Loss: 4.008163, Discriminator Loss: 0.231481\n",
            "Step 24000: Generator Loss: 3.867080, Discriminator Loss: 0.164716\n",
            "Step 26000: Generator Loss: 3.618557, Discriminator Loss: 0.227772\n",
            "Step 28000: Generator Loss: 4.077768, Discriminator Loss: 0.291274\n",
            "Step 30000: Generator Loss: 4.320501, Discriminator Loss: 0.173178\n",
            "Step 32000: Generator Loss: 3.294153, Discriminator Loss: 0.405568\n",
            "Step 34000: Generator Loss: 3.363921, Discriminator Loss: 0.352471\n",
            "Step 36000: Generator Loss: 3.705094, Discriminator Loss: 0.280655\n",
            "Step 38000: Generator Loss: 3.301883, Discriminator Loss: 0.304397\n",
            "Step 40000: Generator Loss: 2.904346, Discriminator Loss: 0.540070\n",
            "Step 42000: Generator Loss: 3.098263, Discriminator Loss: 0.397858\n",
            "Step 44000: Generator Loss: 3.386038, Discriminator Loss: 0.400176\n",
            "Step 46000: Generator Loss: 2.463694, Discriminator Loss: 0.473501\n",
            "Step 48000: Generator Loss: 3.106481, Discriminator Loss: 0.496253\n",
            "Step 50000: Generator Loss: 2.802049, Discriminator Loss: 0.404240\n",
            "Step 52000: Generator Loss: 3.181910, Discriminator Loss: 0.480969\n",
            "Step 54000: Generator Loss: 2.598557, Discriminator Loss: 0.448641\n",
            "Step 56000: Generator Loss: 3.109543, Discriminator Loss: 0.456592\n",
            "Step 58000: Generator Loss: 2.491637, Discriminator Loss: 0.500696\n",
            "Step 60000: Generator Loss: 2.584862, Discriminator Loss: 0.407444\n",
            "Step 62000: Generator Loss: 2.725567, Discriminator Loss: 0.392499\n",
            "Step 64000: Generator Loss: 3.135055, Discriminator Loss: 0.554255\n",
            "Step 66000: Generator Loss: 2.942866, Discriminator Loss: 0.519079\n",
            "Step 68000: Generator Loss: 2.678068, Discriminator Loss: 0.452986\n",
            "Step 70000: Generator Loss: 2.930944, Discriminator Loss: 0.351302\n"
          ],
          "name": "stdout"
        }
      ]
    },
    {
      "cell_type": "markdown",
      "metadata": {
        "id": "lrgkGlK_gvMg",
        "colab_type": "text"
      },
      "source": [
        "# Testing"
      ]
    },
    {
      "cell_type": "code",
      "metadata": {
        "id": "Np84jN6-go4I",
        "colab_type": "code",
        "colab": {
          "base_uri": "https://localhost:8080/",
          "height": 378
        },
        "outputId": "89588b7c-bac2-4c94-c924-fabfe364ee69"
      },
      "source": [
        "# Generate images from noise, using the generator network.\n",
        "n = 6\n",
        "canvas = np.empty((28 * n, 28 * n))\n",
        "for i in range(n):\n",
        "    # Noise input.\n",
        "    z = np.random.uniform(-1., 1., size=[n, noise_dim])\n",
        "    # Generate image from noise.\n",
        "    g = sess.run(gen_sample, feed_dict={gen_input: z})\n",
        "    # Reverse colours for better display\n",
        "    g = -1 * (g - 1)\n",
        "    for j in range(n):\n",
        "        # Draw the generated digits\n",
        "        canvas[i * 28:(i + 1) * 28, j * 28:(j + 1) * 28] = g[j].reshape([28, 28])\n",
        "\n",
        "plt.figure(figsize=(n, n))\n",
        "plt.imshow(canvas, origin=\"upper\", cmap=\"gray\")\n",
        "plt.show()"
      ],
      "execution_count": 13,
      "outputs": [
        {
          "output_type": "display_data",
          "data": {
            "image/png": "[encoded data removed]",
            "text/plain": [
              "<Figure size 432x432 with 1 Axes>"
            ]
          },
          "metadata": {
            "tags": []
          }
        }
      ]
    }
  ]
}