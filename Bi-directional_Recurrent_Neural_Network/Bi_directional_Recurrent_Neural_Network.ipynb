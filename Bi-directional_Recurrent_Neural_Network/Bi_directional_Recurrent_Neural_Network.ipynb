{
  "nbformat": 4,
  "nbformat_minor": 0,
  "metadata": {
    "colab": {
      "name": "Bi-directional Recurrent Neural Network.ipynb",
      "version": "0.3.2",
      "provenance": []
    },
    "kernelspec": {
      "name": "python3",
      "display_name": "Python 3"
    }
  },
  "cells": [
    {
      "cell_type": "markdown",
      "metadata": {
        "id": "LbVwZjf8LCI9",
        "colab_type": "text"
      },
      "source": [
        "# Bi-directional Recurrent Neural Network\n",
        "Build a bi-directional recurrent neural network (LSTM) with TensorFlow."
      ]
    },
    {
      "cell_type": "code",
      "metadata": {
        "id": "pvSIis3rLIxN",
        "colab_type": "code",
        "colab": {}
      },
      "source": [
        "# to avoid warning\n",
        "import warnings\n",
        "warnings.filterwarnings('ignore')\n",
        "\n",
        "import tensorflow as tf\n",
        "from tensorflow.contrib import rnn\n",
        "import numpy as np\n",
        "\n",
        "# Visualization\n",
        "import matplotlib.pyplot as plt  \n",
        "%matplotlib inline \n"
      ],
      "execution_count": 0,
      "outputs": []
    },
    {
      "cell_type": "code",
      "metadata": {
        "id": "Pu8pulkPLJBN",
        "colab_type": "code",
        "colab": {
          "base_uri": "https://localhost:8080/",
          "height": 406
        },
        "outputId": "9d80c90c-c41f-43ca-d91f-4680fc694792"
      },
      "source": [
        "# Import MNIST data\n",
        "from tensorflow.examples.tutorials.mnist import input_data\n",
        "mnist = input_data.read_data_sets(\"/tmp/data/\", one_hot=True)"
      ],
      "execution_count": 2,
      "outputs": [
        {
          "output_type": "stream",
          "text": [
            "WARNING:tensorflow:From <ipython-input-2-c3d55fec490c>:2: read_data_sets (from tensorflow.contrib.learn.python.learn.datasets.mnist) is deprecated and will be removed in a future version.\n",
            "Instructions for updating:\n",
            "Please use alternatives such as official/mnist/dataset.py from tensorflow/models.\n",
            "WARNING:tensorflow:From /usr/local/lib/python3.6/dist-packages/tensorflow/contrib/learn/python/learn/datasets/mnist.py:260: maybe_download (from tensorflow.contrib.learn.python.learn.datasets.base) is deprecated and will be removed in a future version.\n",
            "Instructions for updating:\n",
            "Please write your own downloading logic.\n",
            "WARNING:tensorflow:From /usr/local/lib/python3.6/dist-packages/tensorflow/contrib/learn/python/learn/datasets/mnist.py:262: extract_images (from tensorflow.contrib.learn.python.learn.datasets.mnist) is deprecated and will be removed in a future version.\n",
            "Instructions for updating:\n",
            "Please use tf.data to implement this functionality.\n",
            "Extracting /tmp/data/train-images-idx3-ubyte.gz\n",
            "WARNING:tensorflow:From /usr/local/lib/python3.6/dist-packages/tensorflow/contrib/learn/python/learn/datasets/mnist.py:267: extract_labels (from tensorflow.contrib.learn.python.learn.datasets.mnist) is deprecated and will be removed in a future version.\n",
            "Instructions for updating:\n",
            "Please use tf.data to implement this functionality.\n",
            "Extracting /tmp/data/train-labels-idx1-ubyte.gz\n",
            "WARNING:tensorflow:From /usr/local/lib/python3.6/dist-packages/tensorflow/contrib/learn/python/learn/datasets/mnist.py:110: dense_to_one_hot (from tensorflow.contrib.learn.python.learn.datasets.mnist) is deprecated and will be removed in a future version.\n",
            "Instructions for updating:\n",
            "Please use tf.one_hot on tensors.\n",
            "Extracting /tmp/data/t10k-images-idx3-ubyte.gz\n",
            "Extracting /tmp/data/t10k-labels-idx1-ubyte.gz\n",
            "WARNING:tensorflow:From /usr/local/lib/python3.6/dist-packages/tensorflow/contrib/learn/python/learn/datasets/mnist.py:290: DataSet.__init__ (from tensorflow.contrib.learn.python.learn.datasets.mnist) is deprecated and will be removed in a future version.\n",
            "Instructions for updating:\n",
            "Please use alternatives such as official/mnist/dataset.py from tensorflow/models.\n"
          ],
          "name": "stdout"
        }
      ]
    },
    {
      "cell_type": "code",
      "metadata": {
        "id": "IWCCCjJ2LHT7",
        "colab_type": "code",
        "colab": {}
      },
      "source": [
        "# Training Parameters\n",
        "learning_rate = 0.001\n",
        "training_steps = 10000\n",
        "batch_size = 128\n",
        "display_step = 200"
      ],
      "execution_count": 0,
      "outputs": []
    },
    {
      "cell_type": "code",
      "metadata": {
        "id": "Y-hlNGBYLaqx",
        "colab_type": "code",
        "colab": {}
      },
      "source": [
        "# Network Parameters\n",
        "num_input = 28 # MNIST data input (img shape: 28*28)\n",
        "timesteps = 28 # timesteps\n",
        "num_hidden = 128 # hidden layer num of features\n",
        "num_classes = 10 # MNIST total classes (0-9 digits)\n"
      ],
      "execution_count": 0,
      "outputs": []
    },
    {
      "cell_type": "code",
      "metadata": {
        "id": "SyBXedmMLawU",
        "colab_type": "code",
        "colab": {}
      },
      "source": [
        "# tf Graph input\n",
        "X = tf.placeholder(\"float\", [None, timesteps, num_input])\n",
        "Y = tf.placeholder(\"float\", [None, num_classes])"
      ],
      "execution_count": 0,
      "outputs": []
    },
    {
      "cell_type": "code",
      "metadata": {
        "id": "0JuqzYQtLa1P",
        "colab_type": "code",
        "colab": {
          "base_uri": "https://localhost:8080/",
          "height": 87
        },
        "outputId": "ffc15640-030c-4533-8372-e92b8765daac"
      },
      "source": [
        "# Define weights\n",
        "weights = {\n",
        "    # Hidden layer weights => 2*n_hidden because of forward + backward cells\n",
        "    'out': tf.Variable(tf.random_normal([2*num_hidden, num_classes]))\n",
        "}\n",
        "biases = {\n",
        "    'out': tf.Variable(tf.random_normal([num_classes]))\n",
        "}"
      ],
      "execution_count": 6,
      "outputs": [
        {
          "output_type": "stream",
          "text": [
            "WARNING:tensorflow:From /usr/local/lib/python3.6/dist-packages/tensorflow/python/framework/op_def_library.py:263: colocate_with (from tensorflow.python.framework.ops) is deprecated and will be removed in a future version.\n",
            "Instructions for updating:\n",
            "Colocations handled automatically by placer.\n"
          ],
          "name": "stdout"
        }
      ]
    },
    {
      "cell_type": "code",
      "metadata": {
        "id": "n-TlV3mkLl5l",
        "colab_type": "code",
        "colab": {}
      },
      "source": [
        "def BiRNN(x, weights, biases):\n",
        "\n",
        "    # Prepare data shape to match `rnn` function requirements\n",
        "    # Current data input shape: (batch_size, timesteps, n_input)\n",
        "    # Required shape: 'timesteps' tensors list of shape (batch_size, num_input)\n",
        "\n",
        "    # Unstack to get a list of 'timesteps' tensors of shape (batch_size, num_input)\n",
        "    x = tf.unstack(x, timesteps, 1)\n",
        "\n",
        "    # Define lstm cells with tensorflow\n",
        "    # Forward direction cell\n",
        "    lstm_fw_cell = rnn.BasicLSTMCell(num_hidden, forget_bias=1.0)\n",
        "    # Backward direction cell\n",
        "    lstm_bw_cell = rnn.BasicLSTMCell(num_hidden, forget_bias=1.0)\n",
        "\n",
        "    # Get lstm cell output\n",
        "    try:\n",
        "        outputs, _, _ = rnn.static_bidirectional_rnn(lstm_fw_cell, lstm_bw_cell, x,\n",
        "                                              dtype=tf.float32)\n",
        "    except Exception: # Old TensorFlow version only returns outputs not states\n",
        "        outputs = rnn.static_bidirectional_rnn(lstm_fw_cell, lstm_bw_cell, x,\n",
        "                                        dtype=tf.float32)\n",
        "\n",
        "    # Linear activation, using rnn inner loop last output\n",
        "    return tf.matmul(outputs[-1], weights['out']) + biases['out']"
      ],
      "execution_count": 0,
      "outputs": []
    },
    {
      "cell_type": "code",
      "metadata": {
        "id": "5UXxigzuLpQE",
        "colab_type": "code",
        "colab": {
          "base_uri": "https://localhost:8080/",
          "height": 322
        },
        "outputId": "c88d1efe-009d-4897-95df-d232710b95e5"
      },
      "source": [
        "logits = BiRNN(X, weights, biases)\n",
        "prediction = tf.nn.softmax(logits)\n",
        "\n",
        "# Define loss and optimizer\n",
        "loss_op = tf.reduce_mean(tf.nn.softmax_cross_entropy_with_logits(\n",
        "    logits=logits, labels=Y))\n",
        "optimizer = tf.train.GradientDescentOptimizer(learning_rate=learning_rate)\n",
        "train_op = optimizer.minimize(loss_op)\n",
        "\n",
        "# Evaluate model (with test logits, for dropout to be disabled)\n",
        "correct_pred = tf.equal(tf.argmax(prediction, 1), tf.argmax(Y, 1))\n",
        "accuracy = tf.reduce_mean(tf.cast(correct_pred, tf.float32))\n",
        "\n",
        "# Initialize the variables (i.e. assign their default value)\n",
        "init = tf.global_variables_initializer()"
      ],
      "execution_count": 8,
      "outputs": [
        {
          "output_type": "stream",
          "text": [
            "WARNING:tensorflow:From <ipython-input-7-9399e00d2c53>:12: BasicLSTMCell.__init__ (from tensorflow.python.ops.rnn_cell_impl) is deprecated and will be removed in a future version.\n",
            "Instructions for updating:\n",
            "This class is equivalent as tf.keras.layers.LSTMCell, and will be replaced by that in Tensorflow 2.0.\n",
            "WARNING:tensorflow:From <ipython-input-7-9399e00d2c53>:19: static_bidirectional_rnn (from tensorflow.python.ops.rnn) is deprecated and will be removed in a future version.\n",
            "Instructions for updating:\n",
            "Please use `keras.layers.Bidirectional(keras.layers.RNN(cell, unroll=True))`, which is equivalent to this API\n",
            "WARNING:tensorflow:From /usr/local/lib/python3.6/dist-packages/tensorflow/python/ops/rnn.py:1565: static_rnn (from tensorflow.python.ops.rnn) is deprecated and will be removed in a future version.\n",
            "Instructions for updating:\n",
            "Please use `keras.layers.RNN(cell, unroll=True)`, which is equivalent to this API\n",
            "WARNING:tensorflow:From <ipython-input-8-d6d6107040d4>:6: softmax_cross_entropy_with_logits (from tensorflow.python.ops.nn_ops) is deprecated and will be removed in a future version.\n",
            "Instructions for updating:\n",
            "\n",
            "Future major versions of TensorFlow will allow gradients to flow\n",
            "into the labels input on backprop by default.\n",
            "\n",
            "See `tf.nn.softmax_cross_entropy_with_logits_v2`.\n",
            "\n"
          ],
          "name": "stdout"
        }
      ]
    },
    {
      "cell_type": "code",
      "metadata": {
        "id": "0iKGv8N-LscG",
        "colab_type": "code",
        "colab": {
          "base_uri": "https://localhost:8080/",
          "height": 907
        },
        "outputId": "1f735ee4-3a94-4a0e-f2ad-3fc4a443daa4"
      },
      "source": [
        "# Start training\n",
        "with tf.Session() as sess:\n",
        "\n",
        "    # Run the initializer\n",
        "    sess.run(init)\n",
        "\n",
        "    for step in range(1, training_steps+1):\n",
        "        batch_x, batch_y = mnist.train.next_batch(batch_size)\n",
        "        # Reshape data to get 28 seq of 28 elements\n",
        "        batch_x = batch_x.reshape((batch_size, timesteps, num_input))\n",
        "        # Run optimization op (backprop)\n",
        "        sess.run(train_op, feed_dict={X: batch_x, Y: batch_y})\n",
        "        if step % display_step == 0 or step == 1:\n",
        "            # Calculate batch loss and accuracy\n",
        "            loss, acc = sess.run([loss_op, accuracy], feed_dict={X: batch_x,\n",
        "                                                                 Y: batch_y})\n",
        "            print(\"Step \" + str(step) + \", Minibatch Loss= \" + \\\n",
        "                  \"{:.4f}\".format(loss) + \", Training Accuracy= \" + \\\n",
        "                  \"{:.3f}\".format(acc))\n",
        "\n",
        "    print(\"Optimization Finished!\")  \n",
        "    \n",
        "    # Calculate accuracy for 128 mnist test images\n",
        "    test_len = 128\n",
        "    test_data = mnist.test.images[:test_len].reshape((-1, timesteps, num_input))\n",
        "    test_label = mnist.test.labels[:test_len]\n",
        "    print(\"Testing Accuracy:\", \\\n",
        "        sess.run(accuracy, feed_dict={X: test_data, Y: test_label}))"
      ],
      "execution_count": 9,
      "outputs": [
        {
          "output_type": "stream",
          "text": [
            "Step 1, Minibatch Loss= 2.5204, Training Accuracy= 0.031\n",
            "Step 200, Minibatch Loss= 2.0939, Training Accuracy= 0.281\n",
            "Step 400, Minibatch Loss= 2.0564, Training Accuracy= 0.305\n",
            "Step 600, Minibatch Loss= 1.8264, Training Accuracy= 0.391\n",
            "Step 800, Minibatch Loss= 1.6280, Training Accuracy= 0.516\n",
            "Step 1000, Minibatch Loss= 1.5808, Training Accuracy= 0.500\n",
            "Step 1200, Minibatch Loss= 1.5038, Training Accuracy= 0.516\n",
            "Step 1400, Minibatch Loss= 1.4328, Training Accuracy= 0.609\n",
            "Step 1600, Minibatch Loss= 1.3772, Training Accuracy= 0.562\n",
            "Step 1800, Minibatch Loss= 1.4190, Training Accuracy= 0.586\n",
            "Step 2000, Minibatch Loss= 1.3156, Training Accuracy= 0.609\n",
            "Step 2200, Minibatch Loss= 1.1137, Training Accuracy= 0.664\n",
            "Step 2400, Minibatch Loss= 1.1357, Training Accuracy= 0.633\n",
            "Step 2600, Minibatch Loss= 1.2164, Training Accuracy= 0.648\n",
            "Step 2800, Minibatch Loss= 1.0957, Training Accuracy= 0.695\n",
            "Step 3000, Minibatch Loss= 1.0315, Training Accuracy= 0.688\n",
            "Step 3200, Minibatch Loss= 1.1556, Training Accuracy= 0.617\n",
            "Step 3400, Minibatch Loss= 1.0788, Training Accuracy= 0.688\n",
            "Step 3600, Minibatch Loss= 0.9315, Training Accuracy= 0.703\n",
            "Step 3800, Minibatch Loss= 0.9420, Training Accuracy= 0.711\n",
            "Step 4000, Minibatch Loss= 0.9997, Training Accuracy= 0.680\n",
            "Step 4200, Minibatch Loss= 0.8073, Training Accuracy= 0.734\n",
            "Step 4400, Minibatch Loss= 0.8346, Training Accuracy= 0.742\n",
            "Step 4600, Minibatch Loss= 0.8555, Training Accuracy= 0.766\n",
            "Step 4800, Minibatch Loss= 0.8078, Training Accuracy= 0.781\n",
            "Step 5000, Minibatch Loss= 0.7910, Training Accuracy= 0.750\n",
            "Step 5200, Minibatch Loss= 0.8082, Training Accuracy= 0.766\n",
            "Step 5400, Minibatch Loss= 0.7877, Training Accuracy= 0.758\n",
            "Step 5600, Minibatch Loss= 0.6690, Training Accuracy= 0.773\n",
            "Step 5800, Minibatch Loss= 0.7712, Training Accuracy= 0.773\n",
            "Step 6000, Minibatch Loss= 0.5980, Training Accuracy= 0.836\n",
            "Step 6200, Minibatch Loss= 0.7362, Training Accuracy= 0.766\n",
            "Step 6400, Minibatch Loss= 0.7673, Training Accuracy= 0.773\n",
            "Step 6600, Minibatch Loss= 0.6470, Training Accuracy= 0.820\n",
            "Step 6800, Minibatch Loss= 0.6470, Training Accuracy= 0.812\n",
            "Step 7000, Minibatch Loss= 0.5810, Training Accuracy= 0.812\n",
            "Step 7200, Minibatch Loss= 0.7151, Training Accuracy= 0.734\n",
            "Step 7400, Minibatch Loss= 0.5091, Training Accuracy= 0.836\n",
            "Step 7600, Minibatch Loss= 0.6553, Training Accuracy= 0.797\n",
            "Step 7800, Minibatch Loss= 0.5124, Training Accuracy= 0.812\n",
            "Step 8000, Minibatch Loss= 0.5186, Training Accuracy= 0.812\n",
            "Step 8200, Minibatch Loss= 0.6059, Training Accuracy= 0.805\n",
            "Step 8400, Minibatch Loss= 0.5753, Training Accuracy= 0.852\n",
            "Step 8600, Minibatch Loss= 0.4476, Training Accuracy= 0.875\n",
            "Step 8800, Minibatch Loss= 0.4603, Training Accuracy= 0.867\n",
            "Step 9000, Minibatch Loss= 0.4528, Training Accuracy= 0.891\n",
            "Step 9200, Minibatch Loss= 0.3823, Training Accuracy= 0.883\n",
            "Step 9400, Minibatch Loss= 0.4710, Training Accuracy= 0.820\n",
            "Step 9600, Minibatch Loss= 0.3302, Training Accuracy= 0.914\n",
            "Step 9800, Minibatch Loss= 0.4656, Training Accuracy= 0.852\n",
            "Step 10000, Minibatch Loss= 0.5966, Training Accuracy= 0.836\n",
            "Optimization Finished!\n",
            "Testing Accuracy: 0.875\n"
          ],
          "name": "stdout"
        }
      ]
    },
    {
      "cell_type": "code",
      "metadata": {
        "id": "l8hs46RMLv-R",
        "colab_type": "code",
        "colab": {}
      },
      "source": [
        ""
      ],
      "execution_count": 0,
      "outputs": []
    }
  ]
}