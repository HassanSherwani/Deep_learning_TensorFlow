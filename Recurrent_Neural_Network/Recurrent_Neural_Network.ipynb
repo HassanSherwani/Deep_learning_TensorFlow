{
  "nbformat": 4,
  "nbformat_minor": 0,
  "metadata": {
    "colab": {
      "name": "Recurrent Neural Network.ipynb",
      "version": "0.3.2",
      "provenance": []
    },
    "kernelspec": {
      "name": "python3",
      "display_name": "Python 3"
    }
  },
  "cells": [
    {
      "cell_type": "markdown",
      "metadata": {
        "id": "zHY273WTKBLO",
        "colab_type": "text"
      },
      "source": [
        "# Recurrent Neural Network\n",
        "Build a recurrent neural network (LSTM) with TensorFlow"
      ]
    },
    {
      "cell_type": "code",
      "metadata": {
        "id": "AL089VMUKASd",
        "colab_type": "code",
        "colab": {}
      },
      "source": [
        "# to avoid warning\n",
        "import warnings\n",
        "warnings.filterwarnings('ignore')\n",
        "import pandas as pd   \n",
        "import tensorflow as tf\n",
        "from tensorflow.contrib import rnn\n",
        "import numpy as np               \n",
        "# Visualization\n",
        "import matplotlib.pyplot as plt  \n",
        "%matplotlib inline"
      ],
      "execution_count": 0,
      "outputs": []
    },
    {
      "cell_type": "code",
      "metadata": {
        "id": "vx_rKKgXKJ57",
        "colab_type": "code",
        "colab": {
          "base_uri": "https://localhost:8080/",
          "height": 406
        },
        "outputId": "dfa59b99-5da9-4c3d-8293-999c92990c2e"
      },
      "source": [
        "# Import MNIST data\n",
        "from tensorflow.examples.tutorials.mnist import input_data\n",
        "mnist = input_data.read_data_sets(\"/tmp/data/\", one_hot=True)"
      ],
      "execution_count": 2,
      "outputs": [
        {
          "output_type": "stream",
          "text": [
            "WARNING:tensorflow:From <ipython-input-2-c3d55fec490c>:2: read_data_sets (from tensorflow.contrib.learn.python.learn.datasets.mnist) is deprecated and will be removed in a future version.\n",
            "Instructions for updating:\n",
            "Please use alternatives such as official/mnist/dataset.py from tensorflow/models.\n",
            "WARNING:tensorflow:From /usr/local/lib/python3.6/dist-packages/tensorflow/contrib/learn/python/learn/datasets/mnist.py:260: maybe_download (from tensorflow.contrib.learn.python.learn.datasets.base) is deprecated and will be removed in a future version.\n",
            "Instructions for updating:\n",
            "Please write your own downloading logic.\n",
            "WARNING:tensorflow:From /usr/local/lib/python3.6/dist-packages/tensorflow/contrib/learn/python/learn/datasets/mnist.py:262: extract_images (from tensorflow.contrib.learn.python.learn.datasets.mnist) is deprecated and will be removed in a future version.\n",
            "Instructions for updating:\n",
            "Please use tf.data to implement this functionality.\n",
            "Extracting /tmp/data/train-images-idx3-ubyte.gz\n",
            "WARNING:tensorflow:From /usr/local/lib/python3.6/dist-packages/tensorflow/contrib/learn/python/learn/datasets/mnist.py:267: extract_labels (from tensorflow.contrib.learn.python.learn.datasets.mnist) is deprecated and will be removed in a future version.\n",
            "Instructions for updating:\n",
            "Please use tf.data to implement this functionality.\n",
            "Extracting /tmp/data/train-labels-idx1-ubyte.gz\n",
            "WARNING:tensorflow:From /usr/local/lib/python3.6/dist-packages/tensorflow/contrib/learn/python/learn/datasets/mnist.py:110: dense_to_one_hot (from tensorflow.contrib.learn.python.learn.datasets.mnist) is deprecated and will be removed in a future version.\n",
            "Instructions for updating:\n",
            "Please use tf.one_hot on tensors.\n",
            "Extracting /tmp/data/t10k-images-idx3-ubyte.gz\n",
            "Extracting /tmp/data/t10k-labels-idx1-ubyte.gz\n",
            "WARNING:tensorflow:From /usr/local/lib/python3.6/dist-packages/tensorflow/contrib/learn/python/learn/datasets/mnist.py:290: DataSet.__init__ (from tensorflow.contrib.learn.python.learn.datasets.mnist) is deprecated and will be removed in a future version.\n",
            "Instructions for updating:\n",
            "Please use alternatives such as official/mnist/dataset.py from tensorflow/models.\n"
          ],
          "name": "stdout"
        }
      ]
    },
    {
      "cell_type": "code",
      "metadata": {
        "id": "yfvv9ThJKST1",
        "colab_type": "code",
        "colab": {}
      },
      "source": [
        "# Training Parameters\n",
        "learning_rate = 0.001\n",
        "training_steps = 10000\n",
        "batch_size = 128\n",
        "display_step = 200"
      ],
      "execution_count": 0,
      "outputs": []
    },
    {
      "cell_type": "code",
      "metadata": {
        "id": "W3_M4cmYKW5u",
        "colab_type": "code",
        "colab": {}
      },
      "source": [
        "# Network Parameters\n",
        "num_input = 28 # MNIST data input (img shape: 28*28)\n",
        "timesteps = 28 # timesteps\n",
        "num_hidden = 128 # hidden layer num of features\n",
        "num_classes = 10 # MNIST total classes (0-9 digits)"
      ],
      "execution_count": 0,
      "outputs": []
    },
    {
      "cell_type": "code",
      "metadata": {
        "id": "VMny7z3JKXDk",
        "colab_type": "code",
        "colab": {}
      },
      "source": [
        "# tf Graph input\n",
        "X = tf.placeholder(\"float\", [None, timesteps, num_input])\n",
        "Y = tf.placeholder(\"float\", [None, num_classes])"
      ],
      "execution_count": 0,
      "outputs": []
    },
    {
      "cell_type": "code",
      "metadata": {
        "id": "TWb_J7xxKb63",
        "colab_type": "code",
        "colab": {
          "base_uri": "https://localhost:8080/",
          "height": 87
        },
        "outputId": "d3a24aaf-9a56-4019-f8c3-1e8060bc90b9"
      },
      "source": [
        "\n",
        "# Define weights\n",
        "weights = {\n",
        "    'out': tf.Variable(tf.random_normal([num_hidden, num_classes]))\n",
        "}\n",
        "biases = {\n",
        "    'out': tf.Variable(tf.random_normal([num_classes]))\n",
        "}"
      ],
      "execution_count": 6,
      "outputs": [
        {
          "output_type": "stream",
          "text": [
            "WARNING:tensorflow:From /usr/local/lib/python3.6/dist-packages/tensorflow/python/framework/op_def_library.py:263: colocate_with (from tensorflow.python.framework.ops) is deprecated and will be removed in a future version.\n",
            "Instructions for updating:\n",
            "Colocations handled automatically by placer.\n"
          ],
          "name": "stdout"
        }
      ]
    },
    {
      "cell_type": "code",
      "metadata": {
        "id": "sQOw1vJ4Ke_1",
        "colab_type": "code",
        "colab": {}
      },
      "source": [
        "def RNN(x, weights, biases):\n",
        "\n",
        "    # Prepare data shape to match `rnn` function requirements\n",
        "    # Current data input shape: (batch_size, timesteps, n_input)\n",
        "    # Required shape: 'timesteps' tensors list of shape (batch_size, n_input)\n",
        "\n",
        "    # Unstack to get a list of 'timesteps' tensors of shape (batch_size, n_input)\n",
        "    x = tf.unstack(x, timesteps, 1)\n",
        "\n",
        "    # Define a lstm cell with tensorflow\n",
        "    lstm_cell = rnn.BasicLSTMCell(num_hidden, forget_bias=1.0)\n",
        "\n",
        "    # Get lstm cell output\n",
        "    outputs, states = rnn.static_rnn(lstm_cell, x, dtype=tf.float32)\n",
        "\n",
        "    # Linear activation, using rnn inner loop last output\n",
        "    return tf.matmul(outputs[-1], weights['out']) + biases['out']"
      ],
      "execution_count": 0,
      "outputs": []
    },
    {
      "cell_type": "code",
      "metadata": {
        "id": "grg5jL7FKiA7",
        "colab_type": "code",
        "colab": {
          "base_uri": "https://localhost:8080/",
          "height": 272
        },
        "outputId": "d56ffeb0-7f39-49a8-ccaf-28c3a874de8f"
      },
      "source": [
        "logits = RNN(X, weights, biases)\n",
        "prediction = tf.nn.softmax(logits)\n",
        "\n",
        "# Define loss and optimizer\n",
        "loss_op = tf.reduce_mean(tf.nn.softmax_cross_entropy_with_logits(\n",
        "    logits=logits, labels=Y))\n",
        "optimizer = tf.train.GradientDescentOptimizer(learning_rate=learning_rate)\n",
        "train_op = optimizer.minimize(loss_op)\n",
        "\n",
        "# Evaluate model (with test logits, for dropout to be disabled)\n",
        "correct_pred = tf.equal(tf.argmax(prediction, 1), tf.argmax(Y, 1))\n",
        "accuracy = tf.reduce_mean(tf.cast(correct_pred, tf.float32))\n",
        "\n",
        "# Initialize the variables (i.e. assign their default value)\n",
        "init = tf.global_variables_initializer()"
      ],
      "execution_count": 8,
      "outputs": [
        {
          "output_type": "stream",
          "text": [
            "WARNING:tensorflow:From <ipython-input-7-b80d7eee6341>:11: BasicLSTMCell.__init__ (from tensorflow.python.ops.rnn_cell_impl) is deprecated and will be removed in a future version.\n",
            "Instructions for updating:\n",
            "This class is equivalent as tf.keras.layers.LSTMCell, and will be replaced by that in Tensorflow 2.0.\n",
            "WARNING:tensorflow:From <ipython-input-7-b80d7eee6341>:14: static_rnn (from tensorflow.python.ops.rnn) is deprecated and will be removed in a future version.\n",
            "Instructions for updating:\n",
            "Please use `keras.layers.RNN(cell, unroll=True)`, which is equivalent to this API\n",
            "WARNING:tensorflow:From <ipython-input-8-e3b51778de6b>:6: softmax_cross_entropy_with_logits (from tensorflow.python.ops.nn_ops) is deprecated and will be removed in a future version.\n",
            "Instructions for updating:\n",
            "\n",
            "Future major versions of TensorFlow will allow gradients to flow\n",
            "into the labels input on backprop by default.\n",
            "\n",
            "See `tf.nn.softmax_cross_entropy_with_logits_v2`.\n",
            "\n"
          ],
          "name": "stdout"
        }
      ]
    },
    {
      "cell_type": "code",
      "metadata": {
        "id": "fUrSUn2wKkff",
        "colab_type": "code",
        "colab": {
          "base_uri": "https://localhost:8080/",
          "height": 907
        },
        "outputId": "0599e400-0564-487f-e009-a5483ab64edc"
      },
      "source": [
        "# Start training\n",
        "with tf.Session() as sess:\n",
        "\n",
        "    # Run the initializer\n",
        "    sess.run(init)\n",
        "\n",
        "    for step in range(1, training_steps+1):\n",
        "        batch_x, batch_y = mnist.train.next_batch(batch_size)\n",
        "        # Reshape data to get 28 seq of 28 elements\n",
        "        batch_x = batch_x.reshape((batch_size, timesteps, num_input))\n",
        "        # Run optimization op (backprop)\n",
        "        sess.run(train_op, feed_dict={X: batch_x, Y: batch_y})\n",
        "        if step % display_step == 0 or step == 1:\n",
        "            # Calculate batch loss and accuracy\n",
        "            loss, acc = sess.run([loss_op, accuracy], feed_dict={X: batch_x,\n",
        "                                                                 Y: batch_y})\n",
        "            print(\"Step \" + str(step) + \", Minibatch Loss= \" + \\\n",
        "                  \"{:.4f}\".format(loss) + \", Training Accuracy= \" + \\\n",
        "                  \"{:.3f}\".format(acc))\n",
        "\n",
        "    print(\"Optimization Finished!\")\n",
        "    \n",
        "    # Calculate accuracy for 128 mnist test images\n",
        "    test_len = 128\n",
        "    test_data = mnist.test.images[:test_len].reshape((-1, timesteps, num_input))\n",
        "    test_label = mnist.test.labels[:test_len]\n",
        "    print(\"Testing Accuracy:\", \\\n",
        "        sess.run(accuracy, feed_dict={X: test_data, Y: test_label}))"
      ],
      "execution_count": 9,
      "outputs": [
        {
          "output_type": "stream",
          "text": [
            "Step 1, Minibatch Loss= 2.7917, Training Accuracy= 0.109\n",
            "Step 200, Minibatch Loss= 2.1901, Training Accuracy= 0.195\n",
            "Step 400, Minibatch Loss= 1.9364, Training Accuracy= 0.367\n",
            "Step 600, Minibatch Loss= 1.8630, Training Accuracy= 0.422\n",
            "Step 800, Minibatch Loss= 1.6627, Training Accuracy= 0.531\n",
            "Step 1000, Minibatch Loss= 1.5746, Training Accuracy= 0.500\n",
            "Step 1200, Minibatch Loss= 1.4920, Training Accuracy= 0.453\n",
            "Step 1400, Minibatch Loss= 1.4982, Training Accuracy= 0.508\n",
            "Step 1600, Minibatch Loss= 1.4463, Training Accuracy= 0.531\n",
            "Step 1800, Minibatch Loss= 1.2994, Training Accuracy= 0.602\n",
            "Step 2000, Minibatch Loss= 1.3186, Training Accuracy= 0.586\n",
            "Step 2200, Minibatch Loss= 1.1716, Training Accuracy= 0.602\n",
            "Step 2400, Minibatch Loss= 1.0607, Training Accuracy= 0.664\n",
            "Step 2600, Minibatch Loss= 1.1534, Training Accuracy= 0.641\n",
            "Step 2800, Minibatch Loss= 0.9833, Training Accuracy= 0.727\n",
            "Step 3000, Minibatch Loss= 1.0446, Training Accuracy= 0.688\n",
            "Step 3200, Minibatch Loss= 0.7893, Training Accuracy= 0.734\n",
            "Step 3400, Minibatch Loss= 0.9003, Training Accuracy= 0.711\n",
            "Step 3600, Minibatch Loss= 0.8880, Training Accuracy= 0.719\n",
            "Step 3800, Minibatch Loss= 0.9590, Training Accuracy= 0.703\n",
            "Step 4000, Minibatch Loss= 0.9673, Training Accuracy= 0.727\n",
            "Step 4200, Minibatch Loss= 0.8043, Training Accuracy= 0.719\n",
            "Step 4400, Minibatch Loss= 0.8204, Training Accuracy= 0.773\n",
            "Step 4600, Minibatch Loss= 0.9693, Training Accuracy= 0.719\n",
            "Step 4800, Minibatch Loss= 0.8577, Training Accuracy= 0.719\n",
            "Step 5000, Minibatch Loss= 0.8617, Training Accuracy= 0.750\n",
            "Step 5200, Minibatch Loss= 0.9113, Training Accuracy= 0.688\n",
            "Step 5400, Minibatch Loss= 0.7816, Training Accuracy= 0.734\n",
            "Step 5600, Minibatch Loss= 0.7177, Training Accuracy= 0.773\n",
            "Step 5800, Minibatch Loss= 0.6217, Training Accuracy= 0.812\n",
            "Step 6000, Minibatch Loss= 0.5607, Training Accuracy= 0.836\n",
            "Step 6200, Minibatch Loss= 0.6393, Training Accuracy= 0.797\n",
            "Step 6400, Minibatch Loss= 0.6233, Training Accuracy= 0.773\n",
            "Step 6600, Minibatch Loss= 0.6586, Training Accuracy= 0.781\n",
            "Step 6800, Minibatch Loss= 0.6017, Training Accuracy= 0.789\n",
            "Step 7000, Minibatch Loss= 0.7335, Training Accuracy= 0.766\n",
            "Step 7200, Minibatch Loss= 0.7334, Training Accuracy= 0.758\n",
            "Step 7400, Minibatch Loss= 0.5081, Training Accuracy= 0.867\n",
            "Step 7600, Minibatch Loss= 0.4905, Training Accuracy= 0.867\n",
            "Step 7800, Minibatch Loss= 0.4631, Training Accuracy= 0.836\n",
            "Step 8000, Minibatch Loss= 0.5414, Training Accuracy= 0.852\n",
            "Step 8200, Minibatch Loss= 0.6023, Training Accuracy= 0.773\n",
            "Step 8400, Minibatch Loss= 0.5837, Training Accuracy= 0.828\n",
            "Step 8600, Minibatch Loss= 0.5291, Training Accuracy= 0.836\n",
            "Step 8800, Minibatch Loss= 0.4207, Training Accuracy= 0.859\n",
            "Step 9000, Minibatch Loss= 0.4838, Training Accuracy= 0.852\n",
            "Step 9200, Minibatch Loss= 0.4399, Training Accuracy= 0.836\n",
            "Step 9400, Minibatch Loss= 0.4271, Training Accuracy= 0.883\n",
            "Step 9600, Minibatch Loss= 0.3372, Training Accuracy= 0.906\n",
            "Step 9800, Minibatch Loss= 0.3412, Training Accuracy= 0.891\n",
            "Step 10000, Minibatch Loss= 0.4340, Training Accuracy= 0.852\n",
            "Optimization Finished!\n",
            "Testing Accuracy: 0.8515625\n"
          ],
          "name": "stdout"
        }
      ]
    },
    {
      "cell_type": "code",
      "metadata": {
        "id": "isyORsLzKuiP",
        "colab_type": "code",
        "colab": {}
      },
      "source": [
        ""
      ],
      "execution_count": 0,
      "outputs": []
    },
    {
      "cell_type": "code",
      "metadata": {
        "id": "lTZv-43lO-eV",
        "colab_type": "code",
        "colab": {}
      },
      "source": [
        ""
      ],
      "execution_count": 0,
      "outputs": []
    }
  ]
}